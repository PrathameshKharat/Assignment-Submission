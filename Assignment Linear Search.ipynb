{
 "cells": [
  {
   "cell_type": "markdown",
   "id": "efdd7659",
   "metadata": {},
   "source": [
    "## Write Linear Search Algorithm"
   ]
  },
  {
   "cell_type": "code",
   "execution_count": null,
   "id": "86677cc0",
   "metadata": {},
   "outputs": [],
   "source": [
    "Linear Search ( Array A, Value x)\n",
    "\n",
    "Step 1: Set i to 1\n",
    "Step 2: if i > n then go to step 7\n",
    "Step 3: if A[i] = x then go to step 6\n",
    "Step 4: Set i to i + 1\n",
    "Step 5: Go to Step 2\n",
    "Step 6: Print Element x Found at index i and go to step 8\n",
    "Step 7: Print element not found\n",
    "Step 8: Exit"
   ]
  },
  {
   "cell_type": "markdown",
   "id": "b0081fd3",
   "metadata": {},
   "source": [
    "## Write Binary Search Algorithm"
   ]
  },
  {
   "cell_type": "code",
   "execution_count": null,
   "id": "06f54e35",
   "metadata": {},
   "outputs": [],
   "source": [
    "Binary Search ( Array A, Value x)\n",
    "\n",
    "Step 1: Compare Value x with the middle element.\n",
    "Step 2: If x matches with the middle element, we return the mid index.\n",
    "Step 3: Else If x is greater than the mid element, then x can only lie in the right half subarray after the mid element. So we recur for the right half.\n",
    "Step 4: Else (x is smaller) recur for the left half.\n",
    "Step 5: Print Element x Found at index i and go to step 8.\n",
    "Step 6: Print Element not found\n",
    "Step 7: Exit"
   ]
  },
  {
   "cell_type": "markdown",
   "id": "1cf3d48e",
   "metadata": {},
   "source": [
    "## Implement a dictionary sort using bubble sort"
   ]
  },
  {
   "cell_type": "code",
   "execution_count": 18,
   "id": "a0c8c31c",
   "metadata": {},
   "outputs": [
    {
     "name": "stdout",
     "output_type": "stream",
     "text": [
      "Sorted array is:\n",
      " \n",
      "  11\n",
      " \n",
      "  12\n",
      " \n",
      "  22\n",
      " \n",
      "  25\n",
      " \n",
      "  34\n",
      " \n",
      "  64\n",
      " \n",
      "  90\n"
     ]
    }
   ],
   "source": [
    "def bubbleSort(arr):\n",
    "    n = len(arr)\n",
    "\n",
    "    for i in range(n):\n",
    "\n",
    "        for j in range(0, n-i-1):\n",
    "\n",
    "            if arr[j] > arr[j+1] :\n",
    "                arr[j], arr[j+1] = arr[j+1], arr[j]\n",
    "\n",
    "arr = [64, 34, 25, 12, 22, 11, 90]\n",
    "bubbleSort(arr)\n",
    "\n",
    "print (\"Sorted array is:\")\n",
    "for i in range(len(arr)):\n",
    "    print (\" \\n \" ,arr[i]),"
   ]
  },
  {
   "cell_type": "markdown",
   "id": "3eb96baf",
   "metadata": {},
   "source": [
    "## Sort an array of numbers using insertion sort"
   ]
  },
  {
   "cell_type": "code",
   "execution_count": 17,
   "id": "2d658d00",
   "metadata": {},
   "outputs": [
    {
     "name": "stdout",
     "output_type": "stream",
     "text": [
      "\n",
      " 5\n",
      "\n",
      " 6\n",
      "\n",
      " 11\n",
      "\n",
      " 12\n",
      "\n",
      " 13\n"
     ]
    }
   ],
   "source": [
    "def insertionSort(arr):\n",
    "\n",
    "    for i in range(1, len(arr)):\n",
    "\n",
    "        key = arr[i]\n",
    "\n",
    "        j = i-1\n",
    "        while j >= 0 and key < arr[j] :\n",
    "                arr[j + 1] = arr[j]\n",
    "                j -= 1\n",
    "        arr[j + 1] = key\n",
    "\n",
    "arr = [12, 11, 13, 5, 6]\n",
    "insertionSort(arr)\n",
    "for i in range(len(arr)):\n",
    "    print (\"\\n\" ,arr[i])"
   ]
  },
  {
   "cell_type": "markdown",
   "id": "e4475422",
   "metadata": {},
   "source": [
    "## Sort an array of numbers using selection sort"
   ]
  },
  {
   "cell_type": "code",
   "execution_count": 23,
   "id": "4873d2c3",
   "metadata": {},
   "outputs": [
    {
     "name": "stdout",
     "output_type": "stream",
     "text": [
      "Sorted array\n",
      " \n",
      "  64\n",
      " \n",
      "  25\n",
      " \n",
      "  12\n",
      " \n",
      "  22\n",
      " \n",
      "  11\n"
     ]
    }
   ],
   "source": [
    "A = [64, 25, 12, 22, 11]\n",
    "for i in range(len(A)):\n",
    "    min_idx = i\n",
    "    for j in range(i+1, len(A)):\n",
    "        if A[min_idx] > A[j]:\n",
    "            min_idx = j\n",
    "A[i], A[min_idx] = A[min_idx], A[i]\n",
    "\n",
    "# Driver code to test above\n",
    "print (\"Sorted array\")\n",
    "for i in range(len(A)):\n",
    "    print(\" \\n \" ,A[i]),\n"
   ]
  }
 ],
 "metadata": {
  "kernelspec": {
   "display_name": "Python 3",
   "language": "python",
   "name": "python3"
  },
  "language_info": {
   "codemirror_mode": {
    "name": "ipython",
    "version": 3
   },
   "file_extension": ".py",
   "mimetype": "text/x-python",
   "name": "python",
   "nbconvert_exporter": "python",
   "pygments_lexer": "ipython3",
   "version": "3.8.8"
  }
 },
 "nbformat": 4,
 "nbformat_minor": 5
}
